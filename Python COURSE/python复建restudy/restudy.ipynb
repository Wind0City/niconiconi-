{
 "cells": [
  {
   "cell_type": "markdown",
   "metadata": {},
   "source": [
    " Python restudy\n"
   ]
  },
  {
   "cell_type": "markdown",
   "metadata": {},
   "source": [
    "# 基础部分"
   ]
  },
  {
   "cell_type": "markdown",
   "metadata": {},
   "source": [
    "## Python的基本输入输出"
   ]
  },
  {
   "cell_type": "code",
   "execution_count": 5,
   "metadata": {},
   "outputs": [
    {
     "name": "stdout",
     "output_type": "stream",
     "text": [
      "5\n",
      "5\n",
      "5*5/"
     ]
    }
   ],
   "source": [
    "\n",
    "\n",
    "vai = input(\"提示性文本:\")  #可输入任何类型对象，但返回值都是字符串\n",
    "vai_num = eval(input(\"可以将输入的字符串转换为数值\"))  #可以通过eval函数进行转化\n",
    "\n",
    "print(vai)  #直接输出，可输出字符串，数值，列表，字典等类型的数据\n",
    "print(vai_num)  #默认是带换行的\n",
    "\n",
    "# print(value,...,sep='',end='',file=sys.stdout,flush=False)\n",
    "# sep用什么分割输出的value值，默认空格，end表示在末尾打印什么，默认换行\n",
    "print(vai, vai_num, sep='*', end='/')\n"
   ]
  },
  {
   "cell_type": "markdown",
   "metadata": {},
   "source": [
    "## 格式化输出:\n",
    "- `print(\"%格式表达式\"%要表示的内容)`\n",
    "    %[(name)][flags][width][.precision]typecode\n",
    "    - [(name)] 字典的键名\n",
    "    - [(flags)]:\n",
    "        - \"-\"表示左对齐，默认右对齐\n",
    "        - \"+\"表示包含数字符号\n",
    "        - \" \"表示正数之前保留空格\n",
    "        - \"0\"零填充\n",
    "    - [width] 制定最小宽度的数字\n",
    "    - [.] 用按照精度分割字段的宽度\n",
    "    - [precision] 指定要打印字符串中的最大字符个数，浮点数中小数点之后的位数,或者正数的最小位数\n",
    "    - typecode 转换类型 类比C语言中的printf(\"%f %d %lld\")\n",
    "- format()(后续内容)\n",
    "\n",
    "格式化转化类型:\n",
    "转换类型|含义|\n",
    "|--|--|\n",
    "d，i|带符号的十进制整数\n",
    "E|科学计数法表示的浮点数（大写）\n",
    "o|不带符号的八进制s数\n",
    "F,f|十进制浮点数\n",
    "u|不带符号的十进制数\n",
    "c|单字符x不带符号的十六进制数（小写）\n",
    "s|字符串X不带符号的十六进制数（大写）\n",
    "r|同repr()生成的字符串e科学计数法表示的浮点数（小写）\n",
    "e|科学计数法表示的浮点数（小写）\n",
    "x|不带符号的十六进制数(小写)\n",
    "X|不带符号的十六进制数(大写)\n",
    "\n"
   ]
  },
  {
   "cell_type": "code",
   "execution_count": null,
   "metadata": {},
   "outputs": [],
   "source": [
    "print(\"PI=%f\" % 3.14)  #默认小数点后面保留6位\n",
    "print(\"PI=%10.3f\" % 3.14)  #宽度为10，右对齐，三位小数\n",
    "print(\"PI=%-10.3f\" % 3.14)  #同上，但左对齐\n",
    "print(\"PI= %10d\" % 3.14)  #宽度10，保留整数部分\n",
    "print(\"-----------------------------\")\n",
    "print(\"%.3s\" % \"Communication\")  #显示3个字符\n",
    "print(\"%.*s\" % (4, \"Communication\"))  #*表述督导后面元组中的4\n",
    "print(\"%10.3s\" % \"Communication\")  #宽度为10，右对齐显示三个字符\n",
    "print(\"%-10.3s\" % \"Communication\")  #同上，但左对齐\n",
    "print(\"-----------------------------\")\n",
    "print(\"nHex=%x,nDec=%d,nOct=%o\" % (20, 20, 20))\n"
   ]
  },
  {
   "cell_type": "markdown",
   "metadata": {},
   "source": [
    "## 数据类型，运算符，表达式\n",
    "### 数据类型\n",
    "python的复制可以是链接赋值:`x=y=z=1`\n",
    "\n",
    "同时赋值:`x,y=1,2`\n",
    "\n",
    "不需要事先声明变量名及其类型\n",
    "\n",
    "数值类型: 整数int 浮点数float 布尔值bool 复数complex\n",
    "\n",
    "十进制转换：二进制bin()，八进制oct()，十六进制hex()\n",
    "\n",
    "int(x,base):将字符串当作base进制的整数\n",
    "\n",
    "逻辑值：True False\n",
    "### 运算符\n",
    "算数运算符：\n",
    "\n",
    "操作符|描述|实例\n",
    "|--|--|--\n",
    "+|加法-返回两操作数相加的结果|3+2返回5\n",
    "-|减法-返回左操作数减去右操作数的结果|3-2返回1\n",
    "`*` |乘法-返回两操作数相乘的结果|3*2返回6\n",
    "/|除法-返回右操作数除左操作数的结果|3/2返回1但3.0/2返回1.5\n",
    "%|模-返回右操作数对左操作数取模的结果|5%3返回2\n",
    "`**`|指数-执行对操作指数的计算|3`**`2返回9\n",
    "//|取商-返回右操作数对左操作数取商的结果|3.0//2返回1.0\n",
    "-x|x的负值，即x*（-1）\n",
    "+x|x本身\n",
    "\n",
    "赋值运算符:\n",
    "\n",
    "| 操作符 | 描述                           | 例子                  |\n",
    "|--------|--------------------------------|----------------------|\n",
    "| =      | 简单的赋值运算符                 | `x = 10`             |\n",
    "| +=     | 加法赋值运算符，相当于 x = x + y | `x += 5`  (等同于 `x = x + 5`) |\n",
    "| -=     | 减法赋值运算符，相当于 x = x - y | `x -= 3`  (等同于 `x = x - 3`) |\n",
    "| *=     | 乘法赋值运算符，相当于 x = x * y | `x *= 2`  (等同于 `x = x * 2`) |\n",
    "| /=     | 除法赋值运算符，相当于 x = x / y | `x /= 4`  (等同于 `x = x / 4`) |\n",
    "| //=    | 取整除赋值运算符，相当于 x = x // y | `x //= 3`  (等同于 `x = x // 3`) |\n",
    "| %=     | 取模赋值运算符，相当于 x = x % y | `x %= 7`  (等同于 `x = x % 7`) |\n",
    "| **=    | 幂赋值运算符，相当于 x = x ** y  | `x **= 2` (等同于 `x = x ** 2`) |\n",
    "| &=     | 与赋值运算符，相当于 x = x & y   | `x &= 3`  (等同于 `x = x & 3`) |\n",
    "| `\\|=`    | 或赋值运算符，相当于 x = x \\| y  | `x \\|= 5`  (等同于 `x = x \\| 5`) |\n",
    "| ^=     | 异或赋值运算符，相当于 x = x ^ y | `x ^= 1`  (等同于 `x = x ^ 1`) |\n",
    "| <<=    | 左移赋值运算符，相当于 x = x << y | `x <<= 2` (等同于 `x = x << 2`) |\n",
    "| >>=    | 右移赋值运算符，相当于 x = x >> y | `x >>= 1` (等同于 `x = x >> 1`) |\n",
    "\n",
    "\n",
    "比较运算符：比较大小，判等\n",
    "\n",
    "逻辑运算符：and or not\n",
    "\n",
    "身份运算符： is 判断是不是对同一个对象的而引用 | is not\n",
    "\n",
    "按位运算符:按位运算符是把数字看做二进制来进行计算的\n",
    "\n",
    "| 操作符 | 描述                               | 例子                  |\n",
    "|--------|------------------------------------|----------------------|\n",
    "| &      | 按位与运算符，对每个比特位进行与运算 | `x & y`              |\n",
    "| \\|     | 按位或运算符，对每个比特位进行或运算 | `x \\| y`             |\n",
    "| ^      | 按位异或运算符，对每个比特位进行异或运算 | `x ^ y`             |\n",
    "| ~      | 按位取反运算符，对x的每个比特位取反   | `~x`                 |\n",
    "| <<     | 左移运算符，将x的比特位左移指定的位数 | `x << n`             |\n",
    "| >>     | 右移运算符，将x的比特位右移指定的位数 | `x >> n`             |\n",
    "\n",
    "\n",
    "\n"
   ]
  },
  {
   "cell_type": "markdown",
   "metadata": {},
   "source": [
    "# 程序控制结构"
   ]
  },
  {
   "cell_type": "markdown",
   "metadata": {},
   "source": [
    "- 顺序结构不用多说，和正常语言一样\n",
    "- 分支结构也是同样的if else语句，过eles if 变为elif\n",
    "- 循环结构 \n",
    "    - `for i in range(N,M[,MK]):`\n",
    "    - while 条件表达式:\n",
    "    - break与continue的区别\n",
    "    - else 子句:正常结束循环执行，不是正常结束不执行\n"
   ]
  },
  {
   "cell_type": "code",
   "execution_count": null,
   "metadata": {},
   "outputs": [],
   "source": [
    "for i in range(100,1,-1):\n",
    "    for j in range(2,i):\n",
    "        if i%j==0:\n",
    "            break\n",
    "    else:\n",
    "        print(i,end=\" \")"
   ]
  },
  {
   "cell_type": "markdown",
   "metadata": {},
   "source": [
    "# 字符串类型及其操作:"
   ]
  },
  {
   "cell_type": "markdown",
   "metadata": {},
   "source": [
    "## 基础"
   ]
  },
  {
   "cell_type": "code",
   "execution_count": null,
   "metadata": {},
   "outputs": [],
   "source": [
    "# 字符串的表示:\n",
    "s = \"\"\n",
    "s1 = 'bbq'\n",
    "s2 = \"cuc\"\n",
    "s3 = '''asdasdasdadsadasdas'''\n",
    "s4 = str(\"kkk\")\n",
    "print(s1, s2, s3, s4, sep=\"\\n\")\n",
    "##字符串对象，创建之后内容不能修改，中英文字符都算作一个字符\n",
    "# ord()字符=>编码 chr()编码=>字符\n",
    "print(ord('A'), chr(65))\n",
    "print(chr(9800))\n",
    "#要输出带引号的字符串 用\\将特殊符号转义，也可以用r开头\n",
    "print(r\"asdad/asdafav/sdvs///*-*+asdasdads\")\n",
    "print(s2[-2])\n",
    "# 字符串遍历:\n",
    "mlc=\"abcdefedcba\"\n",
    "if(mlc[::-1]==mlc):\n",
    "    print(\"回文\")\n",
    "\n",
    "# 字符串的+:拼接，*n，复制n次"
   ]
  },
  {
   "cell_type": "markdown",
   "metadata": {},
   "source": [
    "## 字符串处理函数"
   ]
  },
  {
   "cell_type": "code",
   "execution_count": null,
   "metadata": {},
   "outputs": [],
   "source": [
    "s = \"tnnndzxsasss\"\n",
    "y = \"123456\"\n",
    "\n",
    "print(eval(y))\n",
    "print(max(s))\n",
    "print(min(s))\n",
    "\n",
    "st = \"我敲 原神 tmd 启动！\"\n",
    "print(st.lower(), st.upper(), sep=\"|\")  #大小写转化\n",
    "print(str.split(sep=\" \"))  # 分割列表,默认空格\n",
    "print(st.count(\"原神\"))  #记录目标串的出现次数\n",
    "print(st.replace(\"原神\", \"农药\", 1))  #替换,只替换前一个\n",
    "print(\"+\".join(st.split()))  #列表转字符串\n",
    "print(\"abcd\".islower())  #判断是不是大写\n",
    "print(\"123456\".isnumeric())  #判断是不是数字\n",
    "print(st.find(\"原神\"))  #查找\n",
    "print(\"   asdad   \".strip())  #默认删除左右两侧的空格\n",
    "print(\"**asdasd**\".strip(\"*\"))  #也可以删除其他的\n",
    "print(\"**asdasd**\".lstrip(\"*\"))  #只删除单独左侧的，右侧的是rstrip"
   ]
  },
  {
   "cell_type": "markdown",
   "metadata": {},
   "source": [
    "## 字符串格式化\n",
    "format()方法\n",
    "\n",
    "格式:<模板字符串>.format(<逗号分隔的参数>)\n",
    "\n",
    "模板字符串由一系列的{}组成，用来控制字符串中嵌入值出现的位置\n",
    "\n",
    "`{<参数序号>:<格式控制标记>}`\n",
    "\n",
    "|:|<填充>|<对齐>|<宽度>|<,>|<.精度>|<类型>|\n",
    "|-|-|-|-|-|-|-|\n",
    "引导符号|用于填充的单个字符|<左对齐>右对齐^居中对齐|槽的设定输出宽度|数字的千位分隔符|浮点数小数部分的精度或字符串的最大输出长度|整数类型b,c,d,o,x,X浮点数类型e,E,f,F,%|\n",
    "\n",
    "转换类型参考基础部分"
   ]
  },
  {
   "cell_type": "code",
   "execution_count": 42,
   "metadata": {},
   "outputs": [
    {
     "name": "stdout",
     "output_type": "stream",
     "text": [
      "% 0 [->....................]\n",
      "%10 [**->..................]\n",
      "%20 [****->................]\n",
      "%30 [******->..............]\n",
      "%40 [********->............]\n",
      "%50 [**********->..........]\n",
      "%60 [************->........]\n",
      "%70 [**************->......]\n",
      "%80 [****************->....]\n",
      "%90 [******************->..]\n",
      "%100[********************->]\n",
      "   [done]\n"
     ]
    }
   ],
   "source": [
    "import time\n",
    "\n",
    "scal = 10\n",
    "for i in range(scal + 1):\n",
    "    a, b = \"**\" * i, \"..\" * (scal - i)\n",
    "    c = (i / scal) * 100\n",
    "    print(\"%{0:^3.0f}[{1:}->{2:}]\".format(c, a, b))\n",
    "    time.sleep(0.1)\n",
    "print(\"   [done]\")"
   ]
  },
  {
   "cell_type": "markdown",
   "metadata": {},
   "source": [
    "# 组合数据类型\n"
   ]
  },
  {
   "cell_type": "markdown",
   "metadata": {},
   "source": [
    "## 序列(列表)\n",
    "序列是一维的，存在先后关系，通过下标序号访问，从0开始\n",
    "\n",
    "主要有字符串，列表，元组\n",
    "\n"
   ]
  },
  {
   "cell_type": "code",
   "execution_count": 33,
   "metadata": {},
   "outputs": [
    {
     "name": "stdout",
     "output_type": "stream",
     "text": [
      "[2, 3, 4] [2, 3, 4]\n",
      "----------\n",
      "4\n",
      "----------\n",
      "2\n",
      "3\n",
      "4\n",
      "----------\n",
      "2\n",
      "3\n",
      "4\n",
      "----------\n",
      "[2, 3, 4, 2, 3, 4]\n",
      "[2, 3, 4, 2, 3, 4, 2, 3, 4, 2, 3, 4]\n",
      "[2, 3, 4, 2, 3, 4, 999]\n",
      "----------\n",
      "[2, 4, 2, 3, 4, 999]\n",
      "[3, 4]\n",
      "[2, 4, 2, 3, 4]\n",
      "[2, 4, 2, 3]\n",
      "[]\n",
      "----------\n"
     ]
    }
   ],
   "source": [
    "# 列表的创建\n",
    "list1 = list([2, 3, 4])\n",
    "list2 = [2, 3, 4]\n",
    "print(list1, list2)\n",
    "print(\"-\" * 10)\n",
    "# 列表的访问\n",
    "print(list1[2])\n",
    "print(\"-\" * 10)\n",
    "# 列表的遍历:\n",
    "for i in list1:\n",
    "    print(i)\n",
    "\n",
    "print(\"-\" * 10)\n",
    "for i in range(len(list1)):\n",
    "    print(list1[i])\n",
    "\n",
    "print(\"-\" * 10)\n",
    "# 列表元素添加:(注意逻辑顺序与变化)\n",
    "list1 += list2\n",
    "print(list1)\n",
    "print(list1 * 2)\n",
    "list1.append(999)\n",
    "print(list1)\n",
    "print(\"-\" * 10)\n",
    "\n",
    "# 列表元素的删除\n",
    "del list1[1:2]  #不包括2\n",
    "print(list1)\n",
    "del list2[0:2:2]\n",
    "print(list2)\n",
    "list1.remove(999)  #只删除第一个出现的，但是没有会抛出异常\n",
    "print(list1)\n",
    "list1.pop(4)\n",
    "print(list1)  #超出列表范围抛出异常\n",
    "list1.clear()\n",
    "print(list1)  #清空，但是保留列表这个东西\n",
    "print(\"-\" * 10)\n",
    "\n"
   ]
  },
  {
   "cell_type": "code",
   "execution_count": 42,
   "metadata": {},
   "outputs": [
    {
     "name": "stdout",
     "output_type": "stream",
     "text": [
      "[4, 999999, 5, 5, 5, 5, 5, 5, 5, 5]\n",
      "[1, 2, 3, 5, 5, 5, 5, 5, 5, 5, 5]\n",
      "[4, 2, 5, 5, 5, 5, 5, 5, 5, 5, 5]\n",
      "----------\n",
      "2\n",
      "----------\n",
      "[38, 6, 9, 7, 4, 5, 2, 1]\n",
      "[38, 9, 7, 6, 5, 4, 2, 1]\n",
      "[1, 2, 4, 5, 6, 7, 9, 38]\n",
      "[38, 9, 7, 6, 5, 4, 2, 1]\n",
      "1\n",
      "----------\n",
      "[1, 2, 3, 4, 5, 6, 7, 8, 9, 10]\n",
      "[2, 3, 4, 5, 6, 7, 8, 9, 10]\n"
     ]
    }
   ],
   "source": [
    "#列表元素的修改：\n",
    "list2[1] = 999999\n",
    "print(list2)\n",
    "\n",
    "list2[0:2] = [1, 2, 3]  #列表整体替换\n",
    "print(list2)\n",
    "\n",
    "list2[0:3:2] = [4, 5]  #带步长的替换\n",
    "print(list2)\n",
    "print(\"-\" * 10)\n",
    "\n",
    "#查找列表元素:\n",
    "print(list2.index(5))  #首次出现的下标，不存在则抛出异常\n",
    "\n",
    "print(\"-\" * 10)\n",
    "\n",
    "#排序:\n",
    "ls = [1, 2, 5, 4, 7, 9, 6, 38]\n",
    "ls.reverse()  # 反转\n",
    "print(ls)\n",
    "ls.sort(reverse=True)  #降序排列\n",
    "print(ls)\n",
    "print(sorted(ls, reverse=False))  #排序并返回新列表\n",
    "lsn = ls.copy()  # 复制\n",
    "print(lsn)\n",
    "print(lsn.count(1))  #统计出现次数\n",
    "print(\"-\" * 10)\n",
    "\n",
    "#列表推导式\n",
    "a = [i for i in range(1, 11)]\n",
    "print(a)\n",
    "a = [i for i in range(1, 11) if i  ^ 1]\n",
    "print(a)"
   ]
  },
  {
   "cell_type": "markdown",
   "metadata": {},
   "source": [
    "## 元组，集合"
   ]
  },
  {
   "cell_type": "code",
   "execution_count": 5,
   "metadata": {},
   "outputs": [
    {
     "name": "stdout",
     "output_type": "stream",
     "text": [
      "(2, 4, 6) (1, 3, 5)\n",
      "----------\n",
      "{1, 2, 'dfs', (2, 3, 4)} {1, 2, 'dfs', (2, 3, 4)}\n",
      "----------\n",
      "{2, 5, 6} {2, 5, 6}\n",
      "{2, 5, 6}\n",
      "{4, 7} {4, 7}\n",
      "{2, 3, 5, 6, 8, 9} {2, 3, 5, 6, 8, 9}\n",
      "{2, 3, 4, 5, 6, 7, 8, 9} {2, 3, 4, 5, 6, 7, 8, 9}\n",
      "False False\n"
     ]
    }
   ],
   "source": [
    "# 元组创建之后的元素是固定的，创建之后无法修改\n",
    "\n",
    "t1 = (2, 4, 6)\n",
    "t2 = tuple([1, 3, 5])\n",
    "print(t1, t2)\n",
    "\n",
    "#无法向元组中添加元素，也不能删除元素\n",
    "#速度快\n",
    "\n",
    "print(10 * \"-\")\n",
    "\n",
    "# 集合：无序组合，元素不重复，只能是固定数据类型，可变数据不能当集合元素，无索引机制\n",
    "\n",
    "s1 = {1, 2, \"dfs\", tuple([2, 3, 4])}\n",
    "s2 = set(s1)\n",
    "print(s1, s2)\n",
    "\n",
    "S = {2, 4, 5, 6, 7}\n",
    "T = {3, 4, 7, 8, 9}\n",
    "Z = S.copy()  ## 直接赋值相当于用的同一个对象，如果要新的还是要copy\n",
    "X = T.copy()\n",
    "print(10 * \"-\")\n",
    "\n",
    "# 集合的操作符\n",
    "print(S - T, S.difference(T))  #属于S但不属于T的元素组成的集合\n",
    "Z -= T\n",
    "print(Z)\n",
    "print(S & T, S.intersection(T))  #交集\n",
    "\n",
    "print(S ^ T, S.symmetric_difference(T))  # 并集➖交集\n",
    "\n",
    "print(S | T, S.union(T))  #并集\n",
    "\n",
    "print(S <= T, S.issubset(T))  #判断子集\n"
   ]
  },
  {
   "cell_type": "code",
   "execution_count": 7,
   "metadata": {},
   "outputs": [
    {
     "name": "stdout",
     "output_type": "stream",
     "text": [
      "4\n"
     ]
    },
    {
     "data": {
      "text/plain": [
       "True"
      ]
     },
     "execution_count": 7,
     "metadata": {},
     "output_type": "execute_result"
    }
   ],
   "source": [
    "# 集合的操作函数\n",
    "\n",
    "S.add(5)  #添加元素\n",
    "Z.clear()  #移除所有元素\n",
    "K = S.copy()  #COPY\n",
    "print(S.pop())  #随机返回一个元素，空集会异常\n",
    "S.discard(5)  #删除x，没有不报错\n",
    "S.add(5)\n",
    "S.remove(5)  #删除x，没有则报错\n",
    "S.isdisjoint(T)  # 两个集合交集为空返回true\n",
    "len(S)  #集合元素数量\n",
    "5 in S\n",
    "5 not in S"
   ]
  },
  {
   "cell_type": "markdown",
   "metadata": {},
   "source": [
    "## 字典"
   ]
  },
  {
   "cell_type": "code",
   "execution_count": 28,
   "metadata": {},
   "outputs": [
    {
     "name": "stdout",
     "output_type": "stream",
     "text": [
      "123456\n",
      "{'acm': 123456, 'jjj': 123}\n",
      "dict_keys(['acm', 'jjj'])\n",
      "dict_values([123456, 123])\n",
      "dict_items([('acm', 123456), ('jjj', 123)])\n",
      "748\n",
      "False\n"
     ]
    }
   ],
   "source": [
    "di1 = {\"acm\": 123456, \"jjj\": 123}\n",
    "print(di1['acm'])  #访问方式\n",
    "print(di1)\n",
    "print(di1.keys())  #返回所有的键信息\n",
    "print(di1.values())  #返回所有的值信息\n",
    "print(di1.items())  #返回所有的键值对\n",
    "print(di1.get(\"nothing\", 748))  #键存在返回响应值，否则返回默认值\n",
    "print(\"op\" in di1)  # 查看键是否在字典中\n"
   ]
  },
  {
   "cell_type": "code",
   "execution_count": 32,
   "metadata": {},
   "outputs": [
    {
     "name": "stdout",
     "output_type": "stream",
     "text": [
      "{'jjj': 123, 'woc,原！': 666}\n",
      "==============================\n",
      "{'jjj': 123, 'woc,原！': 666}\n",
      "('woc,原！', 666)\n",
      "==============================\n",
      "jjj\n",
      "woc,原！\n",
      "jjj\n",
      "woc,原！\n",
      "==============================\n",
      "123\n",
      "666\n",
      "123\n",
      "666\n",
      "==============================\n",
      "jjj:123\n",
      "woc,原！:666\n"
     ]
    }
   ],
   "source": [
    "# 为字典增加元素：\n",
    "di1['woc,原！'] = 666\n",
    "di2 = di1.copy()\n",
    "di1.update(di1)  #批量增加\n",
    "print(di1)\n",
    "print(\"=\" * 30)\n",
    "di1.pop(\"acm\", 111)  #键存在返回相应值，同时删除键值对，否则返回后面的默认值\n",
    "print(di1)\n",
    "print(di1.popitem())  #随机从字典中取出一个键值对，以元组形式返回\n",
    "#di1.clear()  #清除操作\n",
    "\n",
    "print(\"=\" * 30)\n",
    "#遍历字典中的键，值，键值\n",
    "for key in di2:\n",
    "    print(key)\n",
    "\n",
    "for key in di2.keys():\n",
    "    print(key)\n",
    "\n",
    "print(\"=\" * 30)\n",
    "\n",
    "for val in di2:\n",
    "    print(di2[val])\n",
    "for val in di2.values():\n",
    "    print(val)\n",
    "\n",
    "print(\"=\" * 30)\n",
    "\n",
    "for key,val in di2.items():\n",
    "    print(key,val,sep=\":\")"
   ]
  },
  {
   "cell_type": "markdown",
   "metadata": {},
   "source": [
    "# 函数与模块"
   ]
  },
  {
   "cell_type": "markdown",
   "metadata": {},
   "source": [
    "函数分为\n",
    "- 内置函数\n",
    "- 标准库函数\n",
    "- 第三方库函数"
   ]
  },
  {
   "cell_type": "code",
   "execution_count": null,
   "metadata": {},
   "outputs": [],
   "source": [
    "# 内置函数:\n",
    "print(\"内置函数查看:\",dir(__builtins__),sep='\\n')\n",
    "\n",
    "# 标准库函数:\n",
    "import math\n",
    "print(\"%.18f\"%(math.pi))\n",
    "#help(math)\n",
    "\n",
    "#第三方，如jieba，numpy之类的"
   ]
  },
  {
   "cell_type": "code",
   "execution_count": 14,
   "metadata": {},
   "outputs": [
    {
     "name": "stdout",
     "output_type": "stream",
     "text": [
      "1*2*3*4*5*6*7*8*9*10*\n",
      "\n"
     ]
    }
   ],
   "source": [
    "#自定义函数:\n",
    "\n",
    "def fun(x):\n",
    "    for i in range(x):\n",
    "        print(i+1,end='*')\n",
    "    print('\\n')\n",
    "\n",
    "fun(10)"
   ]
  },
  {
   "cell_type": "markdown",
   "metadata": {},
   "source": [
    "# jieba库（未完，之后再说"
   ]
  },
  {
   "cell_type": "code",
   "execution_count": 34,
   "metadata": {},
   "outputs": [
    {
     "name": "stdout",
     "output_type": "stream",
     "text": [
      "卧槽|，|原|！\n"
     ]
    }
   ],
   "source": [
    "import jieba as jb\n",
    "import wordcloud as wd\n",
    "\"\"\"\n",
    "=================================================================\n",
    "ieba.cut(sentence, cut_all=False, HMM=True, use_paddle=False)  =\n",
    "sentence:要分词的字符串                                         =\n",
    "cut_all:是否采用全模式: True 全模式 False 精确模式               =\n",
    "HMM:是否使用 Hidden Markov Model                                =\n",
    "use_paddle:是否使用paddle模式进行分词                            =\n",
    "=================================================================\n",
    "cut_for_search(sentence,HMM=True)\n",
    "搜索模式，参数同上\n",
    "\"\"\""
   ]
  },
  {
   "cell_type": "code",
   "execution_count": 56,
   "metadata": {},
   "outputs": [
    {
     "name": "stdout",
     "output_type": "stream",
     "text": [
      "全模式:                     我|是|一名|高贵|的|元|神|玩家\n",
      "默认模式(精确模式):              我|是|一名|高贵|的|元|神|玩家\n",
      "搜索引擎模式: 张三|就读|就读于|须弥|书院|，|该生|精通|元素|反应|理论\n"
     ]
    }
   ],
   "source": [
    "print(\"{0:<25s}\".format(\"全模式:\") + \"|\".join(jb.cut(\"我是一名高贵的元神玩家\", cut_all=True)))\n",
    "print(\"{0:<25s}\".format(\"默认模式(精确模式):\") +\n",
    "      \"|\".join(jb.cut(\"我是一名高贵的元神玩家\", cut_all=False)))\n",
    "print(\"搜索引擎模式:\",\"|\".join(jb.cut_for_search(\"张三就读于须弥书院，该生精通元素反应理论\")))"
   ]
  },
  {
   "cell_type": "code",
   "execution_count": null,
   "metadata": {},
   "outputs": [],
   "source": [
    "#载入词典:\n"
   ]
  }
 ],
 "metadata": {
  "kernelspec": {
   "display_name": "Python 3",
   "language": "python",
   "name": "python3"
  },
  "language_info": {
   "codemirror_mode": {
    "name": "ipython",
    "version": 3
   },
   "file_extension": ".py",
   "mimetype": "text/x-python",
   "name": "python",
   "nbconvert_exporter": "python",
   "pygments_lexer": "ipython3",
   "version": "3.10.0"
  },
  "orig_nbformat": 4
 },
 "nbformat": 4,
 "nbformat_minor": 2
}
